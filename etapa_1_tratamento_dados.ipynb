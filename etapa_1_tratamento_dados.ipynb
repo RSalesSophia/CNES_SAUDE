{
 "cells": [
  {
   "cell_type": "markdown",
   "metadata": {},
   "source": [
    "#### Bibliotecas"
   ]
  },
  {
   "cell_type": "code",
   "execution_count": 7,
   "metadata": {},
   "outputs": [],
   "source": [
    "library(microdatasus)\n",
    "library(stringr)\n",
    "library(dplyr)\n",
    "library(magrittr)\n",
    "library(tidyr)"
   ]
  },
  {
   "cell_type": "markdown",
   "metadata": {},
   "source": [
    "#### Configurações de tela"
   ]
  },
  {
   "cell_type": "code",
   "execution_count": 8,
   "metadata": {},
   "outputs": [],
   "source": [
    "options(OutDec = \",\")\n",
    "options(digits = 4, scipen = 100)"
   ]
  },
  {
   "cell_type": "markdown",
   "metadata": {},
   "source": [
    "#### 1 - Dados de 2019"
   ]
  },
  {
   "cell_type": "markdown",
   "metadata": {},
   "source": [
    "#### 1.1 - Março de 2019"
   ]
  },
  {
   "cell_type": "markdown",
   "metadata": {},
   "source": [
    "#### Importando a base relativo aos profissionais"
   ]
  },
  {
   "cell_type": "code",
   "execution_count": null,
   "metadata": {},
   "outputs": [],
   "source": [
    "#Ano 2019 - Março:\n",
    "mar_19 <- fetch_datasus(month_start = 3, month_end = 3,\n",
    "                        year_start = 2019, year_end = 2019,\n",
    "                        uf = \"PB\", information_system = \"CNES-PF\")"
   ]
  },
  {
   "cell_type": "code",
   "execution_count": 10,
   "metadata": {},
   "outputs": [],
   "source": [
    "#Processando os dados: nomeando as variáveis\n",
    "mar_19 <- process_cnes(mar_19, information_system = \"CNES-PF\")"
   ]
  },
  {
   "cell_type": "markdown",
   "metadata": {},
   "source": [
    "#### Descrição da base de dados"
   ]
  },
  {
   "cell_type": "code",
   "execution_count": 11,
   "metadata": {},
   "outputs": [
    {
     "name": "stdout",
     "output_type": "stream",
     "text": [
      "Rows: 68.610\n",
      "Columns: 49\n",
      "$ CNES         \u001b[3m\u001b[90m<chr>\u001b[39m\u001b[23m \"2321742\", \"2321742\", \"2321742\", \"2321742\", \"2321742\", \"2~\n",
      "$ CODUFMUN     \u001b[3m\u001b[90m<chr>\u001b[39m\u001b[23m \"250010\", \"250010\", \"250010\", \"250010\", \"250010\", \"250010~\n",
      "$ REGSAUDE     \u001b[3m\u001b[90m<chr>\u001b[39m\u001b[23m \"0011\", \"0011\", \"0011\", \"0011\", \"0011\", \"0011\", \"0011\", \"~\n",
      "$ MICR_REG     \u001b[3m\u001b[90m<chr>\u001b[39m\u001b[23m NA, NA, NA, NA, NA, NA, NA, NA, NA, NA, NA, NA, NA, NA, N~\n",
      "$ DISTRSAN     \u001b[3m\u001b[90m<chr>\u001b[39m\u001b[23m NA, NA, NA, NA, NA, NA, NA, NA, NA, NA, NA, NA, NA, NA, N~\n",
      "$ DISTRADM     \u001b[3m\u001b[90m<chr>\u001b[39m\u001b[23m NA, NA, NA, NA, NA, NA, NA, NA, NA, NA, NA, NA, NA, NA, N~\n",
      "$ TPGESTAO     \u001b[3m\u001b[90m<chr>\u001b[39m\u001b[23m \"Municipal\", \"Municipal\", \"Municipal\", \"Municipal\", \"Muni~\n",
      "$ PF_PJ        \u001b[3m\u001b[90m<chr>\u001b[39m\u001b[23m \"Pessoa jurídica\", \"Pessoa jurídica\", \"Pessoa jurídica\", ~\n",
      "$ CPF_CNPJ     \u001b[3m\u001b[90m<chr>\u001b[39m\u001b[23m \"1\", \"1\", \"1\", \"1\", \"1\", \"1\", \"1\", \"1\", \"1\", \"1\", \"1\", \"1~\n",
      "$ NIV_DEP      \u001b[3m\u001b[90m<chr>\u001b[39m\u001b[23m \"Mantida\", \"Mantida\", \"Mantida\", \"Mantida\", \"Mantida\", \"M~\n",
      "$ CNPJ_MAN     \u001b[3m\u001b[90m<chr>\u001b[39m\u001b[23m \"226\", \"226\", \"226\", \"226\", \"226\", \"226\", \"226\", \"226\", \"~\n",
      "$ ESFERA_A     \u001b[3m\u001b[90m<chr>\u001b[39m\u001b[23m NA, NA, NA, NA, NA, NA, NA, NA, NA, NA, NA, NA, NA, NA, N~\n",
      "$ ATIVIDAD     \u001b[3m\u001b[90m<chr>\u001b[39m\u001b[23m \"Unidade sem atividade de Ensino\", \"Unidade sem atividade~\n",
      "$ RETENCAO     \u001b[3m\u001b[90m<chr>\u001b[39m\u001b[23m NA, NA, NA, NA, NA, NA, NA, NA, NA, NA, NA, NA, NA, NA, N~\n",
      "$ NATUREZA     \u001b[3m\u001b[90m<chr>\u001b[39m\u001b[23m NA, NA, NA, NA, NA, NA, NA, NA, NA, NA, NA, NA, NA, NA, N~\n",
      "$ CLIENTEL     \u001b[3m\u001b[90m<chr>\u001b[39m\u001b[23m \"Atendimento de demanda espontânea\", \"Atendimento de dema~\n",
      "$ TP_UNID      \u001b[3m\u001b[90m<chr>\u001b[39m\u001b[23m \"Centro de saúde / Unidade básica\", \"Centro de saúde / Un~\n",
      "$ TURNO_AT     \u001b[3m\u001b[90m<chr>\u001b[39m\u001b[23m \"Manhã / Tarde / Noite\", \"Manhã / Tarde / Noite\", \"Manhã ~\n",
      "$ NIV_HIER     \u001b[3m\u001b[90m<chr>\u001b[39m\u001b[23m NA, NA, NA, NA, NA, NA, NA, NA, NA, NA, NA, NA, NA, NA, N~\n",
      "$ TERCEIRO     \u001b[3m\u001b[90m<chr>\u001b[39m\u001b[23m NA, NA, NA, NA, NA, NA, NA, NA, NA, NA, NA, NA, NA, NA, N~\n",
      "$ CPF_PROF     \u001b[3m\u001b[90m<chr>\u001b[39m\u001b[23m \"{}\\177\\u0081\\177}\\177€~}|\", \"{}€|}|€\\u0081\\177\\177~\", \"{~\n",
      "$ CPFUNICO     \u001b[3m\u001b[90m<chr>\u001b[39m\u001b[23m NA, \"1\", \"1\", \"1\", \"1\", \"1\", \"1\", \"1\", \"1\", NA, \"1\", \"1\",~\n",
      "$ CBO          \u001b[3m\u001b[90m<chr>\u001b[39m\u001b[23m \"225142\", \"515105\", \"515105\", \"515105\", \"223565\", \"515105~\n",
      "$ CBOUNICO     \u001b[3m\u001b[90m<chr>\u001b[39m\u001b[23m \"225142\", \"515105\", \"515105\", \"515105\", \"223565\", \"515105~\n",
      "$ NOMEPROF     \u001b[3m\u001b[90m<chr>\u001b[39m\u001b[23m \"DEMOGENES SIQUEIRA CAVALCANTE\", \"RIZONEIDE MARIA DO NASC~\n",
      "$ CNS_PROF     \u001b[3m\u001b[90m<chr>\u001b[39m\u001b[23m \"703601015970935\", \"980016005118736\", \"980016005118973\", ~\n",
      "$ CONSELHO     \u001b[3m\u001b[90m<chr>\u001b[39m\u001b[23m \"71\", NA, NA, NA, \"66\", NA, \"75\", \"66\", NA, \"75\", NA, \"75~\n",
      "$ REGISTRO     \u001b[3m\u001b[90m<chr>\u001b[39m\u001b[23m \"10919\", NA, NA, NA, \"000520561\", NA, \"7022\", \"1188257\", ~\n",
      "$ VINCULAC     \u001b[3m\u001b[90m<chr>\u001b[39m\u001b[23m \"10301\", \"10101\", \"10101\", \"10101\", \"10301\", \"10101\", \"10~\n",
      "$ VINCUL_C     \u001b[3m\u001b[90m<chr>\u001b[39m\u001b[23m \"1\", \"1\", \"1\", \"1\", \"1\", \"1\", \"1\", \"1\", \"1\", \"1\", \"1\", \"1~\n",
      "$ VINCUL_A     \u001b[3m\u001b[90m<chr>\u001b[39m\u001b[23m \"0\", \"0\", \"0\", \"0\", \"0\", \"0\", \"0\", \"0\", \"0\", \"0\", \"0\", \"0~\n",
      "$ VINCUL_N     \u001b[3m\u001b[90m<chr>\u001b[39m\u001b[23m \"0\", \"0\", \"0\", \"0\", \"0\", \"0\", \"0\", \"0\", \"0\", \"0\", \"0\", \"0~\n",
      "$ PROF_SUS     \u001b[3m\u001b[90m<chr>\u001b[39m\u001b[23m \"1\", \"1\", \"1\", \"1\", \"1\", \"1\", \"1\", \"1\", \"1\", \"1\", \"1\", \"1~\n",
      "$ PROFNSUS     \u001b[3m\u001b[90m<chr>\u001b[39m\u001b[23m \"0\", \"0\", \"0\", \"0\", \"0\", \"0\", \"0\", \"0\", \"0\", \"0\", \"0\", \"0~\n",
      "$ HORAOUTR     \u001b[3m\u001b[90m<chr>\u001b[39m\u001b[23m \"0\", \"0\", \"0\", \"0\", \"0\", \"0\", \"0\", \"0\", \"0\", \"0\", \"0\", \"0~\n",
      "$ HORAHOSP     \u001b[3m\u001b[90m<chr>\u001b[39m\u001b[23m \"0\", \"0\", \"0\", \"0\", \"0\", \"0\", \"0\", \"0\", \"0\", \"0\", \"0\", \"0~\n",
      "$ HORA_AMB     \u001b[3m\u001b[90m<chr>\u001b[39m\u001b[23m \"40\", \"40\", \"40\", \"40\", \"40\", \"40\", \"40\", \"40\", \"40\", \"40~\n",
      "$ COMPETEN     \u001b[3m\u001b[90m<chr>\u001b[39m\u001b[23m \"201903\", \"201903\", \"201903\", \"201903\", \"201903\", \"201903~\n",
      "$ UFMUNRES     \u001b[3m\u001b[90m<chr>\u001b[39m\u001b[23m \"000000\", \"000000\", \"000000\", \"000000\", \"000000\", \"000000~\n",
      "$ NAT_JUR      \u001b[3m\u001b[90m<chr>\u001b[39m\u001b[23m \"Município\", \"Município\", \"Município\", \"Município\", \"Muni~\n",
      "$ munResCod    \u001b[3m\u001b[90m<chr>\u001b[39m\u001b[23m NA, NA, NA, NA, NA, NA, NA, NA, NA, NA, NA, NA, NA, NA, N~\n",
      "$ munResStatus \u001b[3m\u001b[90m<chr>\u001b[39m\u001b[23m NA, NA, NA, NA, NA, NA, NA, NA, NA, NA, NA, NA, NA, NA, N~\n",
      "$ munResTipo   \u001b[3m\u001b[90m<chr>\u001b[39m\u001b[23m NA, NA, NA, NA, NA, NA, NA, NA, NA, NA, NA, NA, NA, NA, N~\n",
      "$ munResNome   \u001b[3m\u001b[90m<chr>\u001b[39m\u001b[23m NA, NA, NA, NA, NA, NA, NA, NA, NA, NA, NA, NA, NA, NA, N~\n",
      "$ munResLat    \u001b[3m\u001b[90m<chr>\u001b[39m\u001b[23m NA, NA, NA, NA, NA, NA, NA, NA, NA, NA, NA, NA, NA, NA, N~\n",
      "$ munResLon    \u001b[3m\u001b[90m<chr>\u001b[39m\u001b[23m NA, NA, NA, NA, NA, NA, NA, NA, NA, NA, NA, NA, NA, NA, N~\n",
      "$ munResAlt    \u001b[3m\u001b[90m<chr>\u001b[39m\u001b[23m NA, NA, NA, NA, NA, NA, NA, NA, NA, NA, NA, NA, NA, NA, N~\n",
      "$ munResArea   \u001b[3m\u001b[90m<chr>\u001b[39m\u001b[23m NA, NA, NA, NA, NA, NA, NA, NA, NA, NA, NA, NA, NA, NA, N~\n",
      "$ nome         \u001b[3m\u001b[90m<chr>\u001b[39m\u001b[23m NA, \"Agente comunitário de saúde\", \"Agente comunitário de~\n"
     ]
    }
   ],
   "source": [
    "glimpse(mar_19)"
   ]
  },
  {
   "cell_type": "markdown",
   "metadata": {},
   "source": [
    "#### Selecionando algumas variáveis"
   ]
  },
  {
   "cell_type": "code",
   "execution_count": 12,
   "metadata": {},
   "outputs": [],
   "source": [
    "dados_mar_19 = mar_19 %<>%\n",
    "  select(CNES, CNS_PROF, CODUFMUN, TP_UNID, CBO, HORAOUTR, HORAHOSP,\n",
    "         HORA_AMB, NAT_JUR)"
   ]
  },
  {
   "cell_type": "markdown",
   "metadata": {},
   "source": [
    "#### Filtrando informações\n"
   ]
  },
  {
   "cell_type": "code",
   "execution_count": 13,
   "metadata": {},
   "outputs": [],
   "source": [
    "#Filtrando os tipos de unidades:\n",
    "dados_mar_19 <- mar_19 %>%\n",
    "  filter(str_detect(TP_UNID, \"Hospital|Pronto\"))\n",
    "\n",
    "#Filtrando apenas os profissionais da saúde:\n",
    "dados_mar_19 %<>%\n",
    "  mutate(CBO = as.character(CBO)) %>%\n",
    "  filter(str_starts(CBO, \"223\") | str_starts(CBO, \"225\") |\n",
    "         str_starts(CBO, \"322\"))"
   ]
  },
  {
   "cell_type": "markdown",
   "metadata": {},
   "source": [
    "#### Descobrindo o nome das profissões "
   ]
  },
  {
   "cell_type": "code",
   "execution_count": 14,
   "metadata": {},
   "outputs": [],
   "source": [
    "cbo = read.csv2(\"CBO2002 - Ocupacao.csv\") %>%\n",
    "  mutate(CBO = as.character(CODIGO)) %>%\n",
    "  rename(PROFISSAO = TITULO) %>%\n",
    "  select(-CODIGO)\n",
    "\n",
    "dados_mar_19 = left_join(dados_mar_19, cbo, by = \"CBO\")"
   ]
  },
  {
   "cell_type": "code",
   "execution_count": 15,
   "metadata": {},
   "outputs": [
    {
     "data": {
      "text/html": [
       "<table class=\"dataframe\">\n",
       "<caption>A data.frame: 1 × 10</caption>\n",
       "<thead>\n",
       "\t<tr><th scope=col>CNES</th><th scope=col>CNS_PROF</th><th scope=col>CODUFMUN</th><th scope=col>TP_UNID</th><th scope=col>CBO</th><th scope=col>HORAOUTR</th><th scope=col>HORAHOSP</th><th scope=col>HORA_AMB</th><th scope=col>NAT_JUR</th><th scope=col>PROFISSAO</th></tr>\n",
       "\t<tr><th scope=col>&lt;int&gt;</th><th scope=col>&lt;int&gt;</th><th scope=col>&lt;int&gt;</th><th scope=col>&lt;int&gt;</th><th scope=col>&lt;int&gt;</th><th scope=col>&lt;int&gt;</th><th scope=col>&lt;int&gt;</th><th scope=col>&lt;int&gt;</th><th scope=col>&lt;int&gt;</th><th scope=col>&lt;int&gt;</th></tr>\n",
       "</thead>\n",
       "<tbody>\n",
       "\t<tr><td>0</td><td>0</td><td>0</td><td>0</td><td>0</td><td>0</td><td>0</td><td>0</td><td>0</td><td>211</td></tr>\n",
       "</tbody>\n",
       "</table>\n"
      ],
      "text/latex": [
       "A data.frame: 1 × 10\n",
       "\\begin{tabular}{llllllllll}\n",
       " CNES & CNS\\_PROF & CODUFMUN & TP\\_UNID & CBO & HORAOUTR & HORAHOSP & HORA\\_AMB & NAT\\_JUR & PROFISSAO\\\\\n",
       " <int> & <int> & <int> & <int> & <int> & <int> & <int> & <int> & <int> & <int>\\\\\n",
       "\\hline\n",
       "\t 0 & 0 & 0 & 0 & 0 & 0 & 0 & 0 & 0 & 211\\\\\n",
       "\\end{tabular}\n"
      ],
      "text/markdown": [
       "\n",
       "A data.frame: 1 × 10\n",
       "\n",
       "| CNES &lt;int&gt; | CNS_PROF &lt;int&gt; | CODUFMUN &lt;int&gt; | TP_UNID &lt;int&gt; | CBO &lt;int&gt; | HORAOUTR &lt;int&gt; | HORAHOSP &lt;int&gt; | HORA_AMB &lt;int&gt; | NAT_JUR &lt;int&gt; | PROFISSAO &lt;int&gt; |\n",
       "|---|---|---|---|---|---|---|---|---|---|\n",
       "| 0 | 0 | 0 | 0 | 0 | 0 | 0 | 0 | 0 | 211 |\n",
       "\n"
      ],
      "text/plain": [
       "  CNES CNS_PROF CODUFMUN TP_UNID CBO HORAOUTR HORAHOSP HORA_AMB NAT_JUR\n",
       "1 0    0        0        0       0   0        0        0        0      \n",
       "  PROFISSAO\n",
       "1 211      "
      ]
     },
     "metadata": {},
     "output_type": "display_data"
    },
    {
     "data": {
      "text/html": [
       "<table class=\"dataframe\">\n",
       "<caption>A data.frame: 1 × 1</caption>\n",
       "<thead>\n",
       "\t<tr><th scope=col>n</th></tr>\n",
       "\t<tr><th scope=col>&lt;int&gt;</th></tr>\n",
       "</thead>\n",
       "<tbody>\n",
       "\t<tr><td>211</td></tr>\n",
       "</tbody>\n",
       "</table>\n"
      ],
      "text/latex": [
       "A data.frame: 1 × 1\n",
       "\\begin{tabular}{l}\n",
       " n\\\\\n",
       " <int>\\\\\n",
       "\\hline\n",
       "\t 211\\\\\n",
       "\\end{tabular}\n"
      ],
      "text/markdown": [
       "\n",
       "A data.frame: 1 × 1\n",
       "\n",
       "| n &lt;int&gt; |\n",
       "|---|\n",
       "| 211 |\n",
       "\n"
      ],
      "text/plain": [
       "  n  \n",
       "1 211"
      ]
     },
     "metadata": {},
     "output_type": "display_data"
    }
   ],
   "source": [
    "#Atentando aos NA's\n",
    "dados_mar_19 %>% summarise_all(~ sum(is.na(.)))\n",
    "\n",
    "#Descobrindo quais cbo não foram entendidos\n",
    "ausencia_cbo = dados_mar_19 %>% \n",
    "  filter(!complete.cases(PROFISSAO))\n",
    "\n",
    "#Confirmando se todos os códigos iniciam com 223\n",
    "ausencia_cbo %>% summarise(n = sum(str_starts(CBO, \"223\"), na.rm = TRUE))\n"
   ]
  },
  {
   "cell_type": "code",
   "execution_count": 16,
   "metadata": {},
   "outputs": [],
   "source": [
    "#Tendo em vista que 223 corresponde ao grupo dos médicos, onde é \n",
    "#NA substituir por Médico\n",
    "dados_mar_19 %<>%\n",
    "  mutate_at(vars(PROFISSAO), ~replace_na(., \"Médico\"))"
   ]
  },
  {
   "cell_type": "markdown",
   "metadata": {},
   "source": [
    "#### Identificando o profissional por estabelecimento "
   ]
  },
  {
   "cell_type": "code",
   "execution_count": 17,
   "metadata": {},
   "outputs": [],
   "source": [
    "dados_mar_19 %<>%\n",
    "  group_by(CNS_PROF, CNES) %>%\n",
    "  mutate(id = row_number()) %>%\n",
    "  ungroup()"
   ]
  },
  {
   "cell_type": "markdown",
   "metadata": {},
   "source": [
    "#### Importando dados relativos a quantidade de leitos no hospital"
   ]
  },
  {
   "cell_type": "code",
   "execution_count": null,
   "metadata": {},
   "outputs": [],
   "source": [
    "leitos = fetch_datasus(month_start = 3, month_end = 3,\n",
    "                        year_start = 2019, year_end = 2019,\n",
    "                        uf = \"PB\", information_system = \"CNES-LT\")"
   ]
  },
  {
   "cell_type": "code",
   "execution_count": 19,
   "metadata": {},
   "outputs": [],
   "source": [
    "leitos %<>%\n",
    "  group_by(CNES) %>%\n",
    "  summarise(TOTAL = sum(QT_EXIST))"
   ]
  },
  {
   "cell_type": "markdown",
   "metadata": {},
   "source": [
    "#### Unindo as duas bases anteriores"
   ]
  },
  {
   "cell_type": "code",
   "execution_count": 20,
   "metadata": {},
   "outputs": [],
   "source": [
    "dados_mar_19 <- left_join(dados_mar_19, leitos, by = \"CNES\")"
   ]
  },
  {
   "cell_type": "markdown",
   "metadata": {},
   "source": [
    "A não correspondência entre *dados_mar_19* e *leitos*  corresponde ao fato de não ter pleito no hospital. \n",
    "Assim, substitui o NA por zero. "
   ]
  },
  {
   "cell_type": "code",
   "execution_count": 21,
   "metadata": {},
   "outputs": [],
   "source": [
    "dados_mar_19 %<>%\n",
    "  mutate_at(vars(TOTAL), ~replace_na(., 0))"
   ]
  },
  {
   "cell_type": "markdown",
   "metadata": {},
   "source": [
    "#### 1.2 - Dezembro de 2019"
   ]
  },
  {
   "cell_type": "code",
   "execution_count": null,
   "metadata": {},
   "outputs": [],
   "source": [
    "#Ano 2019 - Dezembro\n",
    "dez_19 = fetch_datasus(month_start = 12, month_end = 12,\n",
    "                        year_start = 2019, year_end = 2019,\n",
    "                        uf = \"PB\", information_system = \"CNES-PF\")"
   ]
  },
  {
   "cell_type": "code",
   "execution_count": 23,
   "metadata": {},
   "outputs": [],
   "source": [
    "#Processando os dados: nomeando as variáveis\n",
    "dez_19 = process_cnes(dez_19, information_system = \"CNES-PF\")"
   ]
  },
  {
   "cell_type": "markdown",
   "metadata": {},
   "source": [
    "#### Selecionado variáveis"
   ]
  },
  {
   "cell_type": "code",
   "execution_count": 24,
   "metadata": {},
   "outputs": [],
   "source": [
    "dados_dez_19 = dez_19 %<>%\n",
    "  select(CNES, CNS_PROF, CODUFMUN, TP_UNID, CBO, HORAOUTR, HORAHOSP,\n",
    "         HORA_AMB, NAT_JUR)"
   ]
  },
  {
   "cell_type": "markdown",
   "metadata": {},
   "source": [
    "#### Filtrando informações"
   ]
  },
  {
   "cell_type": "code",
   "execution_count": 25,
   "metadata": {},
   "outputs": [],
   "source": [
    "#Filtrando os tipos de unidades:\n",
    "dados_dez_19 %<>%\n",
    "  filter(str_detect(TP_UNID, \"Hospital|Pronto\"))\n",
    "\n",
    "#Filtrando apenas os profissionais da saúde\n",
    "dados_dez_19 %<>%\n",
    "  mutate(CBO = as.character(CBO)) %>%\n",
    "  filter(str_starts(CBO, \"223\") | str_starts(CBO, \"225\") |\n",
    "         str_starts(CBO, \"322\"))\n"
   ]
  },
  {
   "cell_type": "markdown",
   "metadata": {},
   "source": [
    "#### Descobrindo o nome da profissão"
   ]
  },
  {
   "cell_type": "code",
   "execution_count": 26,
   "metadata": {},
   "outputs": [],
   "source": [
    "dados_dez_19 = left_join(dados_dez_19, cbo, by = \"CBO\")"
   ]
  },
  {
   "cell_type": "code",
   "execution_count": 27,
   "metadata": {},
   "outputs": [
    {
     "data": {
      "text/html": [
       "<table class=\"dataframe\">\n",
       "<caption>A data.frame: 1 × 10</caption>\n",
       "<thead>\n",
       "\t<tr><th scope=col>CNES</th><th scope=col>CNS_PROF</th><th scope=col>CODUFMUN</th><th scope=col>TP_UNID</th><th scope=col>CBO</th><th scope=col>HORAOUTR</th><th scope=col>HORAHOSP</th><th scope=col>HORA_AMB</th><th scope=col>NAT_JUR</th><th scope=col>PROFISSAO</th></tr>\n",
       "\t<tr><th scope=col>&lt;int&gt;</th><th scope=col>&lt;int&gt;</th><th scope=col>&lt;int&gt;</th><th scope=col>&lt;int&gt;</th><th scope=col>&lt;int&gt;</th><th scope=col>&lt;int&gt;</th><th scope=col>&lt;int&gt;</th><th scope=col>&lt;int&gt;</th><th scope=col>&lt;int&gt;</th><th scope=col>&lt;int&gt;</th></tr>\n",
       "</thead>\n",
       "<tbody>\n",
       "\t<tr><td>0</td><td>0</td><td>0</td><td>0</td><td>0</td><td>0</td><td>0</td><td>0</td><td>0</td><td>271</td></tr>\n",
       "</tbody>\n",
       "</table>\n"
      ],
      "text/latex": [
       "A data.frame: 1 × 10\n",
       "\\begin{tabular}{llllllllll}\n",
       " CNES & CNS\\_PROF & CODUFMUN & TP\\_UNID & CBO & HORAOUTR & HORAHOSP & HORA\\_AMB & NAT\\_JUR & PROFISSAO\\\\\n",
       " <int> & <int> & <int> & <int> & <int> & <int> & <int> & <int> & <int> & <int>\\\\\n",
       "\\hline\n",
       "\t 0 & 0 & 0 & 0 & 0 & 0 & 0 & 0 & 0 & 271\\\\\n",
       "\\end{tabular}\n"
      ],
      "text/markdown": [
       "\n",
       "A data.frame: 1 × 10\n",
       "\n",
       "| CNES &lt;int&gt; | CNS_PROF &lt;int&gt; | CODUFMUN &lt;int&gt; | TP_UNID &lt;int&gt; | CBO &lt;int&gt; | HORAOUTR &lt;int&gt; | HORAHOSP &lt;int&gt; | HORA_AMB &lt;int&gt; | NAT_JUR &lt;int&gt; | PROFISSAO &lt;int&gt; |\n",
       "|---|---|---|---|---|---|---|---|---|---|\n",
       "| 0 | 0 | 0 | 0 | 0 | 0 | 0 | 0 | 0 | 271 |\n",
       "\n"
      ],
      "text/plain": [
       "  CNES CNS_PROF CODUFMUN TP_UNID CBO HORAOUTR HORAHOSP HORA_AMB NAT_JUR\n",
       "1 0    0        0        0       0   0        0        0        0      \n",
       "  PROFISSAO\n",
       "1 271      "
      ]
     },
     "metadata": {},
     "output_type": "display_data"
    },
    {
     "data": {
      "text/html": [
       "<table class=\"dataframe\">\n",
       "<caption>A data.frame: 1 × 1</caption>\n",
       "<thead>\n",
       "\t<tr><th scope=col>n</th></tr>\n",
       "\t<tr><th scope=col>&lt;int&gt;</th></tr>\n",
       "</thead>\n",
       "<tbody>\n",
       "\t<tr><td>271</td></tr>\n",
       "</tbody>\n",
       "</table>\n"
      ],
      "text/latex": [
       "A data.frame: 1 × 1\n",
       "\\begin{tabular}{l}\n",
       " n\\\\\n",
       " <int>\\\\\n",
       "\\hline\n",
       "\t 271\\\\\n",
       "\\end{tabular}\n"
      ],
      "text/markdown": [
       "\n",
       "A data.frame: 1 × 1\n",
       "\n",
       "| n &lt;int&gt; |\n",
       "|---|\n",
       "| 271 |\n",
       "\n"
      ],
      "text/plain": [
       "  n  \n",
       "1 271"
      ]
     },
     "metadata": {},
     "output_type": "display_data"
    }
   ],
   "source": [
    "#Atentando aos NA's\n",
    "dados_dez_19 %>% summarise_all(~ sum(is.na(.)))\n",
    "\n",
    "#Descobrindo quais cbo não foram entendidos\n",
    "ausencia_cbo = dados_dez_19  %>% \n",
    "  filter(!complete.cases(PROFISSAO))\n",
    "\n",
    "#Confirmando se todos os códigos iniciam com 223\n",
    "ausencia_cbo %>% summarise(n = sum(str_starts(CBO, \"223\"), na.rm = TRUE))\n"
   ]
  },
  {
   "cell_type": "code",
   "execution_count": 28,
   "metadata": {},
   "outputs": [],
   "source": [
    "#Tendo em vista que 223 corresponde ao grupo dos médicos, onde é NA substituir por Médico\n",
    "dados_dez_19  %<>%\n",
    "  mutate_at(vars(PROFISSAO), ~replace_na(., \"Médico\"))"
   ]
  },
  {
   "cell_type": "markdown",
   "metadata": {},
   "source": [
    "#### Identificando o profissional por estabelecimento "
   ]
  },
  {
   "cell_type": "code",
   "execution_count": 29,
   "metadata": {},
   "outputs": [],
   "source": [
    "dados_dez_19 %<>%\n",
    "  group_by(CNS_PROF, CNES) %>%\n",
    "  mutate(id = row_number()) %>%\n",
    "  ungroup"
   ]
  },
  {
   "cell_type": "markdown",
   "metadata": {},
   "source": [
    "Deixando apenas as informações em dezembro que tem em março. Para isso, utiliza-se o `semi-join` que retorna todas as linhas de onde há valores correspondentes de y, mantendo apenas as colunas de x: "
   ]
  },
  {
   "cell_type": "code",
   "execution_count": 30,
   "metadata": {},
   "outputs": [],
   "source": [
    "dados_dez_19 = semi_join(dados_dez_19, dados_mar_19, by = \"CNES\")"
   ]
  },
  {
   "cell_type": "markdown",
   "metadata": {},
   "source": [
    "#### Importando a base relativo a quantidade de leitos"
   ]
  },
  {
   "cell_type": "code",
   "execution_count": null,
   "metadata": {},
   "outputs": [],
   "source": [
    "leitos = fetch_datasus(month_start = 12, month_end = 12,\n",
    "                        year_start = 2019, year_end = 2019,\n",
    "                        uf = \"PB\", information_system = \"CNES-LT\")"
   ]
  },
  {
   "cell_type": "markdown",
   "metadata": {},
   "source": [
    "#### Tratando os dados conforme anteriormente"
   ]
  },
  {
   "cell_type": "code",
   "execution_count": 32,
   "metadata": {},
   "outputs": [],
   "source": [
    "#Contando a quantidade de leitos por CNES\n",
    "leitos %<>%\n",
    "  group_by(CNES) %>%\n",
    "  summarise(TOTAL = sum(QT_EXIST))\n",
    "\n",
    "#Unindo a base leitos com dados_dez_19\n",
    "dados_dez_19 <- left_join(dados_dez_19, leitos, by = \"CNES\")\n",
    "\n",
    "#Onde tem NA substitui por 0\n",
    "dados_dez_19 %<>%\n",
    "  mutate_at(vars(TOTAL), ~replace_na(., 0))"
   ]
  },
  {
   "cell_type": "markdown",
   "metadata": {},
   "source": [
    "#### 1.3 - Março e Dezembro de 2019"
   ]
  },
  {
   "cell_type": "markdown",
   "metadata": {},
   "source": [
    "O objetivo dessa união é descobrir qual profissional rotacionou entre março e dezembro"
   ]
  },
  {
   "cell_type": "code",
   "execution_count": 33,
   "metadata": {},
   "outputs": [],
   "source": [
    "#Preparando a base - março\n",
    "d0 <-  dados_mar_19 %>%\n",
    "  select(CNES, CNS_PROF) %>%\n",
    "  group_by(CNS_PROF, CNES) %>%\n",
    "  mutate(t0 = 1,\n",
    "         id = row_number()) %>%\n",
    "  ungroup()\n",
    "\n",
    "#Preparando a base - dezembro\n",
    "d1 <-  dados_dez_19 %>%\n",
    "  select(CNES, CNS_PROF) %>%\n",
    "  group_by(CNS_PROF, CNES) %>%\n",
    "  mutate(t1 = 1,\n",
    "         id = row_number()) %>%\n",
    "  ungroup()\n",
    "\n",
    "#Unindo as informaçoes dos dois meses:\n",
    "d <- full_join(d0, d1, by = c(\"CNES\", \"CNS_PROF\", \"id\"))\n",
    "\n",
    "#Onde nao tem informaçao, substituir por 0\n",
    "d[is.na(d)] = 0\n",
    "\n",
    "#Se trabalhou nos dois periodos continuou no emprego, menor do que 2 trocou:\n",
    "d = d %>%\n",
    "  mutate(t = t0 + t1,\n",
    "         rotat = if_else(t < 2, 1,0))\n",
    "\n",
    "#Voltando para a base original:\n",
    "df0 = left_join(dados_mar_19,d, by = c(\"CNES\", \"CNS_PROF\", \"id\")) %>%\n",
    "  mutate(tempo = 0)\n",
    "\n",
    "df1 = left_join(dados_dez_19,d, by = c(\"CNES\", \"CNS_PROF\", \"id\")) %>%\n",
    "  mutate(tempo = 1)\n",
    "\n",
    "#Uniao dos dois meses:\n",
    "uniao_19 = bind_rows(df0, df1)"
   ]
  },
  {
   "cell_type": "markdown",
   "metadata": {},
   "source": [
    "####  Importando dados sobre as mesoregiões"
   ]
  },
  {
   "cell_type": "code",
   "execution_count": 34,
   "metadata": {},
   "outputs": [],
   "source": [
    "codigo <- read.csv2(\"codigo_meso.csv\", sep = \";\")"
   ]
  },
  {
   "cell_type": "code",
   "execution_count": 35,
   "metadata": {},
   "outputs": [],
   "source": [
    "#Transformando a tipagem da variável CODUFMUN\n",
    "codigo %<>%\n",
    "    mutate(CODUFMUN = as.character(mun_trab)) %>%\n",
    "    select(-mun_trab)\n",
    "\n",
    "#Unindo a base uniao_19 com codigo\n",
    "uniao_19 = inner_join(uniao_19, codigo, by = \"CODUFMUN\")"
   ]
  },
  {
   "cell_type": "markdown",
   "metadata": {},
   "source": [
    "#### Criando atributos sobre os hospitais e profissionais\n"
   ]
  },
  {
   "cell_type": "code",
   "execution_count": 36,
   "metadata": {},
   "outputs": [],
   "source": [
    "#Quantidade de vínculos em março e dezembro\n",
    "uniao_19 %<>%\n",
    "  group_by(CNS_PROF, tempo) %>%\n",
    "  mutate(VINCULOS = n())"
   ]
  },
  {
   "cell_type": "code",
   "execution_count": 37,
   "metadata": {},
   "outputs": [],
   "source": [
    "uniao_19 %<>%\n",
    "  mutate(NAT_JUR = as.character(NAT_JUR),\n",
    "         PUBLICO = if_else(NAT_JUR == \"2011\" |\n",
    "                          NAT_JUR == \"Autarquia Federal\" |\n",
    "                          NAT_JUR == \"Autarquia Municipal\" |\n",
    "                          NAT_JUR == \"Município\" |\n",
    "                          NAT_JUR == \"Órgão Público do Poder Executivo Estadual ou do Distrito Federal\", 1, 0))"
   ]
  },
  {
   "cell_type": "code",
   "execution_count": 38,
   "metadata": {},
   "outputs": [],
   "source": [
    "#Transformando subgrupo de profissões em uma geral\n",
    "uniao_19  %<>%\n",
    "  mutate(PROFISSAO = case_when(str_detect(PROFISSAO,\"Auxiliar de enfermagem\") ~ \"Técnico de enfermagem\",\n",
    "                               str_starts(PROFISSAO, \"Médico\") ~ \"Médico\",\n",
    "                               str_starts(PROFISSAO, \"Fisioterapeuta\") ~ \"Fisioterapeuta\",\n",
    "                               str_starts(PROFISSAO, \"Farmacêutico\") ~ \"Farmacêutico\",\n",
    "                               str_starts(PROFISSAO, \"Enfermeiro\") ~ \"Enfermeiro\",\n",
    "                               TRUE ~ as.character(PROFISSAO)))"
   ]
  },
  {
   "cell_type": "code",
   "execution_count": 39,
   "metadata": {},
   "outputs": [],
   "source": [
    "#Número de horas trabalhadas\n",
    "uniao_19 %<>%\n",
    "  mutate(HORAOUTR = as.numeric(HORAOUTR),\n",
    "         HORAHOSP = as.numeric(HORAHOSP),\n",
    "         HORA_AMB = as.numeric(HORA_AMB),\n",
    "         H_TOTAL = HORAOUTR + HORAHOSP + HORA_AMB)\n",
    "\n",
    "#Criando dummies para total de horas trabalhadas:\n",
    "uniao_19 %<>% mutate(D_HORAS = case_when(H_TOTAL %in% 0:10 ~ 1,\n",
    "                                         H_TOTAL %in% 11:20 ~ 2,\n",
    "                                         H_TOTAL %in% 21:30 ~ 3,\n",
    "                                         H_TOTAL > 30 ~ 4))"
   ]
  },
  {
   "cell_type": "code",
   "execution_count": 40,
   "metadata": {},
   "outputs": [],
   "source": [
    "#Dummy para indicar o porte do hospital\n",
    "uniao_19  %<>% mutate(PORTE = case_when(TOTAL <= 50 ~ 1,\n",
    "                                        TOTAL %in% 51:150 ~ 2,\n",
    "                                        TOTAL %in% 151:500 ~ 3,\n",
    "                                        TOTAL > 500 ~ 4))"
   ]
  },
  {
   "cell_type": "code",
   "execution_count": 41,
   "metadata": {},
   "outputs": [],
   "source": [
    "#Dummies para indicar a quantidade de vínculos trabalhistas\n",
    "uniao_19  %<>% mutate(D_VINC = case_when(VINCULOS == 1 ~ \"1 vínculo\",\n",
    "                                         VINCULOS == 2 ~ \"2 vínculos\",\n",
    "                                         VINCULOS >= 3 ~ \"3 ou mais vínculos\"))"
   ]
  },
  {
   "cell_type": "code",
   "execution_count": 42,
   "metadata": {},
   "outputs": [],
   "source": [
    "#Desagrupando os dados\n",
    "uniao_19 %<>%\n",
    "    ungroup()"
   ]
  },
  {
   "cell_type": "code",
   "execution_count": 43,
   "metadata": {},
   "outputs": [
    {
     "name": "stdout",
     "output_type": "stream",
     "text": [
      "Rows: 42.103\n",
      "Columns: 24\n",
      "$ CNES      \u001b[3m\u001b[90m<chr>\u001b[39m\u001b[23m \"2322153\", \"2322153\", \"2322153\", \"2322153\", \"2322153\", \"2322~\n",
      "$ CNS_PROF  \u001b[3m\u001b[90m<chr>\u001b[39m\u001b[23m \"207428997690007\", \"980016288637438\", \"980016297404556\", \"98~\n",
      "$ CODUFMUN  \u001b[3m\u001b[90m<chr>\u001b[39m\u001b[23m \"250020\", \"250020\", \"250020\", \"250020\", \"250020\", \"250020\", ~\n",
      "$ TP_UNID   \u001b[3m\u001b[90m<chr>\u001b[39m\u001b[23m \"Hospital geral\", \"Hospital geral\", \"Hospital geral\", \"Hospi~\n",
      "$ CBO       \u001b[3m\u001b[90m<chr>\u001b[39m\u001b[23m \"225124\", \"225125\", \"225125\", \"322205\", \"322205\", \"223605\", ~\n",
      "$ HORAOUTR  \u001b[3m\u001b[90m<dbl>\u001b[39m\u001b[23m 0, 0, 0, 0, 0, 0, 0, 0, 0, 0, 0, 0, 0, 0, 0, 0, 0, 0, 0, 0, ~\n",
      "$ HORAHOSP  \u001b[3m\u001b[90m<dbl>\u001b[39m\u001b[23m 0, 0, 12, 0, 0, 0, 12, 40, 0, 40, 0, 0, 12, 0, 12, 0, 0, 0, ~\n",
      "$ HORA_AMB  \u001b[3m\u001b[90m<dbl>\u001b[39m\u001b[23m 8, 18, 12, 40, 40, 20, 12, 0, 20, 0, 24, 24, 12, 40, 12, 20,~\n",
      "$ NAT_JUR   \u001b[3m\u001b[90m<chr>\u001b[39m\u001b[23m \"Órgão Público do Poder Executivo Estadual ou do Distrito Fe~\n",
      "$ PROFISSAO \u001b[3m\u001b[90m<chr>\u001b[39m\u001b[23m \"Médico\", \"Médico\", \"Médico\", \"Técnico de enfermagem\", \"Técn~\n",
      "$ id        \u001b[3m\u001b[90m<int>\u001b[39m\u001b[23m 1, 1, 1, 1, 1, 1, 1, 1, 1, 1, 1, 1, 1, 1, 1, 1, 1, 1, 1, 1, ~\n",
      "$ TOTAL     \u001b[3m\u001b[90m<int>\u001b[39m\u001b[23m 12, 12, 12, 12, 12, 12, 12, 12, 12, 12, 12, 12, 12, 12, 12, ~\n",
      "$ t0        \u001b[3m\u001b[90m<dbl>\u001b[39m\u001b[23m 1, 1, 1, 1, 1, 1, 1, 1, 1, 1, 1, 1, 1, 1, 1, 1, 1, 1, 1, 1, ~\n",
      "$ t1        \u001b[3m\u001b[90m<dbl>\u001b[39m\u001b[23m 1, 1, 1, 1, 1, 1, 1, 1, 1, 1, 1, 1, 1, 1, 0, 1, 1, 1, 1, 1, ~\n",
      "$ t         \u001b[3m\u001b[90m<dbl>\u001b[39m\u001b[23m 2, 2, 2, 2, 2, 2, 2, 2, 2, 2, 2, 2, 2, 2, 1, 2, 2, 2, 2, 2, ~\n",
      "$ rotat     \u001b[3m\u001b[90m<dbl>\u001b[39m\u001b[23m 0, 0, 0, 0, 0, 0, 0, 0, 0, 0, 0, 0, 0, 0, 1, 0, 0, 0, 0, 0, ~\n",
      "$ tempo     \u001b[3m\u001b[90m<dbl>\u001b[39m\u001b[23m 0, 0, 0, 0, 0, 0, 0, 0, 0, 0, 0, 0, 0, 0, 0, 0, 0, 0, 0, 0, ~\n",
      "$ meso_trab \u001b[3m\u001b[90m<chr>\u001b[39m\u001b[23m \"Sertão Paraibano\", \"Sertão Paraibano\", \"Sertão Paraibano\", ~\n",
      "$ VINCULOS  \u001b[3m\u001b[90m<int>\u001b[39m\u001b[23m 1, 2, 1, 1, 1, 1, 1, 1, 1, 1, 1, 1, 2, 1, 1, 1, 1, 1, 1, 1, ~\n",
      "$ PUBLICO   \u001b[3m\u001b[90m<dbl>\u001b[39m\u001b[23m 1, 1, 1, 1, 1, 1, 1, 1, 1, 1, 1, 1, 1, 1, 1, 1, 1, 1, 1, 1, ~\n",
      "$ H_TOTAL   \u001b[3m\u001b[90m<dbl>\u001b[39m\u001b[23m 8, 18, 24, 40, 40, 20, 24, 40, 20, 40, 24, 24, 24, 40, 24, 2~\n",
      "$ D_HORAS   \u001b[3m\u001b[90m<dbl>\u001b[39m\u001b[23m 1, 2, 3, 4, 4, 2, 3, 4, 2, 4, 3, 3, 3, 4, 3, 2, 2, 1, 1, 2, ~\n",
      "$ PORTE     \u001b[3m\u001b[90m<dbl>\u001b[39m\u001b[23m 1, 1, 1, 1, 1, 1, 1, 1, 1, 1, 1, 1, 1, 1, 1, 1, 1, 1, 1, 1, ~\n",
      "$ D_VINC    \u001b[3m\u001b[90m<chr>\u001b[39m\u001b[23m \"1 vínculo\", \"2 vínculos\", \"1 vínculo\", \"1 vínculo\", \"1 vínc~\n"
     ]
    }
   ],
   "source": [
    "glimpse(uniao_19)"
   ]
  },
  {
   "cell_type": "markdown",
   "metadata": {},
   "source": [
    "#### 2 - Dados de 2020"
   ]
  },
  {
   "cell_type": "markdown",
   "metadata": {},
   "source": [
    "Observação: tratamento de dados em 2020 é o mesmo realizado em 2019."
   ]
  },
  {
   "cell_type": "markdown",
   "metadata": {},
   "source": [
    "#### 2.1 Março de 2020"
   ]
  },
  {
   "cell_type": "markdown",
   "metadata": {},
   "source": [
    "#### Importando os dados"
   ]
  },
  {
   "cell_type": "code",
   "execution_count": null,
   "metadata": {},
   "outputs": [],
   "source": [
    "#Ano 2020 - Março:\n",
    "mar_20 = fetch_datasus(month_start = 3, month_end = 3,\n",
    "                        year_start = 2020, year_end = 2020,\n",
    "                        uf = \"PB\", information_system = \"CNES-PF\")\n",
    "\n",
    "#Processando os dados: nomeando as variaveis\n",
    "mar_20 = process_cnes(mar_20, information_system = \"CNES-PF\")"
   ]
  },
  {
   "cell_type": "markdown",
   "metadata": {},
   "source": [
    "#### Selecionando informações"
   ]
  },
  {
   "cell_type": "code",
   "execution_count": 45,
   "metadata": {},
   "outputs": [],
   "source": [
    "dados_mar_20 = mar_20 %<>%\n",
    "  select(CNES, CNS_PROF, CODUFMUN, TP_UNID, CBO, HORAOUTR, HORAHOSP,\n",
    "         HORA_AMB, NAT_JUR)"
   ]
  },
  {
   "cell_type": "markdown",
   "metadata": {},
   "source": [
    "#### Filtrando informações "
   ]
  },
  {
   "cell_type": "code",
   "execution_count": 46,
   "metadata": {},
   "outputs": [],
   "source": [
    "#Filtrando os tipos de unidades:\n",
    "dados_mar_20 %<>%\n",
    "  filter(str_detect(TP_UNID, \"Hospital|Pronto\"))\n",
    "\n",
    "#Filtrando apenas os profissionais da saúde\n",
    "dados_mar_20 %<>%\n",
    "  mutate(CBO = as.character(CBO)) %>%\n",
    "  filter(str_starts(CBO, \"223\") | str_starts(CBO, \"225\") |\n",
    "         str_starts(CBO, \"322\"))"
   ]
  },
  {
   "cell_type": "markdown",
   "metadata": {},
   "source": [
    "#### Descobrindo o nome das profissões "
   ]
  },
  {
   "cell_type": "code",
   "execution_count": 47,
   "metadata": {},
   "outputs": [],
   "source": [
    "dados_mar_20 = left_join(dados_mar_20, cbo, by = \"CBO\")"
   ]
  },
  {
   "cell_type": "code",
   "execution_count": 48,
   "metadata": {},
   "outputs": [
    {
     "data": {
      "text/html": [
       "<table class=\"dataframe\">\n",
       "<caption>A data.frame: 1 × 10</caption>\n",
       "<thead>\n",
       "\t<tr><th scope=col>CNES</th><th scope=col>CNS_PROF</th><th scope=col>CODUFMUN</th><th scope=col>TP_UNID</th><th scope=col>CBO</th><th scope=col>HORAOUTR</th><th scope=col>HORAHOSP</th><th scope=col>HORA_AMB</th><th scope=col>NAT_JUR</th><th scope=col>PROFISSAO</th></tr>\n",
       "\t<tr><th scope=col>&lt;int&gt;</th><th scope=col>&lt;int&gt;</th><th scope=col>&lt;int&gt;</th><th scope=col>&lt;int&gt;</th><th scope=col>&lt;int&gt;</th><th scope=col>&lt;int&gt;</th><th scope=col>&lt;int&gt;</th><th scope=col>&lt;int&gt;</th><th scope=col>&lt;int&gt;</th><th scope=col>&lt;int&gt;</th></tr>\n",
       "</thead>\n",
       "<tbody>\n",
       "\t<tr><td>0</td><td>0</td><td>0</td><td>0</td><td>0</td><td>0</td><td>0</td><td>0</td><td>0</td><td>282</td></tr>\n",
       "</tbody>\n",
       "</table>\n"
      ],
      "text/latex": [
       "A data.frame: 1 × 10\n",
       "\\begin{tabular}{llllllllll}\n",
       " CNES & CNS\\_PROF & CODUFMUN & TP\\_UNID & CBO & HORAOUTR & HORAHOSP & HORA\\_AMB & NAT\\_JUR & PROFISSAO\\\\\n",
       " <int> & <int> & <int> & <int> & <int> & <int> & <int> & <int> & <int> & <int>\\\\\n",
       "\\hline\n",
       "\t 0 & 0 & 0 & 0 & 0 & 0 & 0 & 0 & 0 & 282\\\\\n",
       "\\end{tabular}\n"
      ],
      "text/markdown": [
       "\n",
       "A data.frame: 1 × 10\n",
       "\n",
       "| CNES &lt;int&gt; | CNS_PROF &lt;int&gt; | CODUFMUN &lt;int&gt; | TP_UNID &lt;int&gt; | CBO &lt;int&gt; | HORAOUTR &lt;int&gt; | HORAHOSP &lt;int&gt; | HORA_AMB &lt;int&gt; | NAT_JUR &lt;int&gt; | PROFISSAO &lt;int&gt; |\n",
       "|---|---|---|---|---|---|---|---|---|---|\n",
       "| 0 | 0 | 0 | 0 | 0 | 0 | 0 | 0 | 0 | 282 |\n",
       "\n"
      ],
      "text/plain": [
       "  CNES CNS_PROF CODUFMUN TP_UNID CBO HORAOUTR HORAHOSP HORA_AMB NAT_JUR\n",
       "1 0    0        0        0       0   0        0        0        0      \n",
       "  PROFISSAO\n",
       "1 282      "
      ]
     },
     "metadata": {},
     "output_type": "display_data"
    },
    {
     "data": {
      "text/html": [
       "<table class=\"dataframe\">\n",
       "<caption>A data.frame: 1 × 1</caption>\n",
       "<thead>\n",
       "\t<tr><th scope=col>n</th></tr>\n",
       "\t<tr><th scope=col>&lt;int&gt;</th></tr>\n",
       "</thead>\n",
       "<tbody>\n",
       "\t<tr><td>282</td></tr>\n",
       "</tbody>\n",
       "</table>\n"
      ],
      "text/latex": [
       "A data.frame: 1 × 1\n",
       "\\begin{tabular}{l}\n",
       " n\\\\\n",
       " <int>\\\\\n",
       "\\hline\n",
       "\t 282\\\\\n",
       "\\end{tabular}\n"
      ],
      "text/markdown": [
       "\n",
       "A data.frame: 1 × 1\n",
       "\n",
       "| n &lt;int&gt; |\n",
       "|---|\n",
       "| 282 |\n",
       "\n"
      ],
      "text/plain": [
       "  n  \n",
       "1 282"
      ]
     },
     "metadata": {},
     "output_type": "display_data"
    }
   ],
   "source": [
    "#Atentando aos NA's\n",
    "dados_mar_20 %>% summarise_all(~ sum(is.na(.)))\n",
    "\n",
    "#Descobrindo quais cbo não foram entendidos\n",
    "ausencia_cbo = dados_mar_20  %>% \n",
    "  filter(!complete.cases(PROFISSAO))\n",
    "\n",
    "#Confirmando se todos os códigos iniciam com 223\n",
    "ausencia_cbo %>% summarise(n = sum(str_starts(CBO, \"223\"), na.rm = TRUE))"
   ]
  },
  {
   "cell_type": "code",
   "execution_count": 49,
   "metadata": {},
   "outputs": [],
   "source": [
    "#Substituindo NA substituir por Médico\n",
    "dados_mar_20  %<>%\n",
    "  mutate_at(vars(PROFISSAO), ~replace_na(., \"Médico\"))"
   ]
  },
  {
   "cell_type": "markdown",
   "metadata": {},
   "source": [
    "#### Identificando os profissionais por CNES"
   ]
  },
  {
   "cell_type": "code",
   "execution_count": 50,
   "metadata": {},
   "outputs": [],
   "source": [
    "#Identificando o profissional dentro do estabelecimento\n",
    "dados_mar_20 %<>%\n",
    "  group_by(CNS_PROF, CNES) %>%\n",
    "  mutate(id = row_number()) %>%\n",
    "  ungroup()\n",
    "\n",
    "#Deixando apenas os hospitais que tem em 2019\n",
    "dados_mar_20 <- semi_join(dados_mar_20, dados_mar_19, by = \"CNES\")"
   ]
  },
  {
   "cell_type": "markdown",
   "metadata": {},
   "source": [
    "#### Importando e tratando dados relativos aos leitos"
   ]
  },
  {
   "cell_type": "code",
   "execution_count": null,
   "metadata": {},
   "outputs": [],
   "source": [
    "#Importando dados\n",
    "leitos <- fetch_datasus(month_start = 3, month_end = 3,\n",
    "                        year_start = 2020, year_end = 2020,\n",
    "                        uf = \"PB\", information_system = \"CNES-LT\")\n",
    "\n",
    "#Somatório de leitos por hospital\n",
    "leitos %<>%\n",
    "  group_by(CNES) %>%\n",
    "  summarise(TOTAL = sum(QT_EXIST))\n",
    "\n",
    "#Unindo os dados de leitos com dados_mar_20\n",
    "dados_mar_20 <- left_join(dados_mar_20, leitos, by = \"CNES\")\n",
    "\n",
    "#Onde há NA susbtituir por zero\n",
    "dados_mar_20 %<>%\n",
    "  mutate_at(vars(TOTAL), ~replace_na(., 0))"
   ]
  },
  {
   "cell_type": "markdown",
   "metadata": {},
   "source": [
    "#### 2.2 Dezembro de 2020"
   ]
  },
  {
   "cell_type": "markdown",
   "metadata": {},
   "source": [
    "#### Importando os dados"
   ]
  },
  {
   "cell_type": "code",
   "execution_count": null,
   "metadata": {},
   "outputs": [],
   "source": [
    "#Importando os dados\n",
    "dez_20 = fetch_datasus(month_start = 12, month_end = 12,\n",
    "                        year_start = 2020, year_end = 2020,\n",
    "                        uf = \"PB\", information_system = \"CNES-PF\")\n",
    "\n",
    "#Processando os dados: nomeando as variaveis\n",
    "dez_20 = process_cnes(dez_20,  information_system = \"CNES-PF\")"
   ]
  },
  {
   "cell_type": "markdown",
   "metadata": {},
   "source": [
    "#### Selecionando variáveis"
   ]
  },
  {
   "cell_type": "code",
   "execution_count": 53,
   "metadata": {},
   "outputs": [],
   "source": [
    "dados_dez_20 = dez_20 %<>%\n",
    "  select(CNES, CNS_PROF, CODUFMUN, TP_UNID, CBO, HORAOUTR, HORAHOSP,\n",
    "         HORA_AMB, NAT_JUR)"
   ]
  },
  {
   "cell_type": "markdown",
   "metadata": {},
   "source": [
    "#### Filtrando as informações"
   ]
  },
  {
   "cell_type": "code",
   "execution_count": 54,
   "metadata": {},
   "outputs": [],
   "source": [
    "#Filtrando por tipo de unidade\n",
    "dados_dez_20 %<>%\n",
    "  filter(str_detect(TP_UNID, \"Hospital|Pronto\"))\n",
    "\n",
    "#Filtrando apenas os profissionais da saúde\n",
    "dados_dez_20 %<>%\n",
    "  mutate(CBO = as.character(CBO)) %>%\n",
    "  filter(str_starts(CBO, \"223\") | str_starts(CBO, \"225\") |\n",
    "         str_starts(CBO, \"322\"))"
   ]
  },
  {
   "cell_type": "markdown",
   "metadata": {},
   "source": [
    "#### Descobrindo o nome das profissões"
   ]
  },
  {
   "cell_type": "code",
   "execution_count": 55,
   "metadata": {},
   "outputs": [
    {
     "data": {
      "text/html": [
       "<table class=\"dataframe\">\n",
       "<caption>A data.frame: 1 × 10</caption>\n",
       "<thead>\n",
       "\t<tr><th scope=col>CNES</th><th scope=col>CNS_PROF</th><th scope=col>CODUFMUN</th><th scope=col>TP_UNID</th><th scope=col>CBO</th><th scope=col>HORAOUTR</th><th scope=col>HORAHOSP</th><th scope=col>HORA_AMB</th><th scope=col>NAT_JUR</th><th scope=col>PROFISSAO</th></tr>\n",
       "\t<tr><th scope=col>&lt;int&gt;</th><th scope=col>&lt;int&gt;</th><th scope=col>&lt;int&gt;</th><th scope=col>&lt;int&gt;</th><th scope=col>&lt;int&gt;</th><th scope=col>&lt;int&gt;</th><th scope=col>&lt;int&gt;</th><th scope=col>&lt;int&gt;</th><th scope=col>&lt;int&gt;</th><th scope=col>&lt;int&gt;</th></tr>\n",
       "</thead>\n",
       "<tbody>\n",
       "\t<tr><td>0</td><td>0</td><td>0</td><td>0</td><td>0</td><td>0</td><td>0</td><td>0</td><td>0</td><td>316</td></tr>\n",
       "</tbody>\n",
       "</table>\n"
      ],
      "text/latex": [
       "A data.frame: 1 × 10\n",
       "\\begin{tabular}{llllllllll}\n",
       " CNES & CNS\\_PROF & CODUFMUN & TP\\_UNID & CBO & HORAOUTR & HORAHOSP & HORA\\_AMB & NAT\\_JUR & PROFISSAO\\\\\n",
       " <int> & <int> & <int> & <int> & <int> & <int> & <int> & <int> & <int> & <int>\\\\\n",
       "\\hline\n",
       "\t 0 & 0 & 0 & 0 & 0 & 0 & 0 & 0 & 0 & 316\\\\\n",
       "\\end{tabular}\n"
      ],
      "text/markdown": [
       "\n",
       "A data.frame: 1 × 10\n",
       "\n",
       "| CNES &lt;int&gt; | CNS_PROF &lt;int&gt; | CODUFMUN &lt;int&gt; | TP_UNID &lt;int&gt; | CBO &lt;int&gt; | HORAOUTR &lt;int&gt; | HORAHOSP &lt;int&gt; | HORA_AMB &lt;int&gt; | NAT_JUR &lt;int&gt; | PROFISSAO &lt;int&gt; |\n",
       "|---|---|---|---|---|---|---|---|---|---|\n",
       "| 0 | 0 | 0 | 0 | 0 | 0 | 0 | 0 | 0 | 316 |\n",
       "\n"
      ],
      "text/plain": [
       "  CNES CNS_PROF CODUFMUN TP_UNID CBO HORAOUTR HORAHOSP HORA_AMB NAT_JUR\n",
       "1 0    0        0        0       0   0        0        0        0      \n",
       "  PROFISSAO\n",
       "1 316      "
      ]
     },
     "metadata": {},
     "output_type": "display_data"
    },
    {
     "data": {
      "text/html": [
       "<table class=\"dataframe\">\n",
       "<caption>A data.frame: 1 × 1</caption>\n",
       "<thead>\n",
       "\t<tr><th scope=col>n</th></tr>\n",
       "\t<tr><th scope=col>&lt;int&gt;</th></tr>\n",
       "</thead>\n",
       "<tbody>\n",
       "\t<tr><td>316</td></tr>\n",
       "</tbody>\n",
       "</table>\n"
      ],
      "text/latex": [
       "A data.frame: 1 × 1\n",
       "\\begin{tabular}{l}\n",
       " n\\\\\n",
       " <int>\\\\\n",
       "\\hline\n",
       "\t 316\\\\\n",
       "\\end{tabular}\n"
      ],
      "text/markdown": [
       "\n",
       "A data.frame: 1 × 1\n",
       "\n",
       "| n &lt;int&gt; |\n",
       "|---|\n",
       "| 316 |\n",
       "\n"
      ],
      "text/plain": [
       "  n  \n",
       "1 316"
      ]
     },
     "metadata": {},
     "output_type": "display_data"
    }
   ],
   "source": [
    "#Unindo a base cbo com dados_dez_20\n",
    "dados_dez_20 = left_join(dados_dez_20, cbo, by = \"CBO\")\n",
    "\n",
    "#Atentando aos NA's\n",
    "dados_dez_20 %>% summarise_all(~ sum(is.na(.)))\n",
    "\n",
    "#Descobrindo quais cbo não foram entendidos\n",
    "ausencia_cbo = dados_dez_20  %>% \n",
    "  filter(!complete.cases(PROFISSAO))\n",
    "\n",
    "#Confirmando se todos os códigos iniciam com 223\n",
    "ausencia_cbo %>% summarise(n = sum(str_starts(CBO, \"223\"), na.rm = TRUE))\n"
   ]
  },
  {
   "cell_type": "code",
   "execution_count": 56,
   "metadata": {},
   "outputs": [],
   "source": [
    "#Substituindo NA substituir por Médico\n",
    "dados_dez_20  %<>%\n",
    "  mutate_at(vars(PROFISSAO), ~replace_na(., \"Médico\"))"
   ]
  },
  {
   "cell_type": "markdown",
   "metadata": {},
   "source": [
    "#### Identificando os profissionais"
   ]
  },
  {
   "cell_type": "code",
   "execution_count": 57,
   "metadata": {},
   "outputs": [],
   "source": [
    "#Identificando o profissional dentro do estabelecimento\n",
    "dados_dez_20 %<>%\n",
    "  group_by(CNS_PROF, CNES) %>%\n",
    "  mutate(id = row_number()) %>%\n",
    "  ungroup()\n",
    "\n",
    "#Deixando informaçoes em dezembro que tem em 2019 (mês de referência = mar/2019)\n",
    "dados_dez_20 = semi_join(dados_dez_20, dados_mar_19, by = \"CNES\")\n"
   ]
  },
  {
   "cell_type": "markdown",
   "metadata": {},
   "source": [
    "#### Importando e tratando dados relativos aos leitos"
   ]
  },
  {
   "cell_type": "code",
   "execution_count": null,
   "metadata": {},
   "outputs": [],
   "source": [
    "#Leitos\n",
    "leitos = fetch_datasus(month_start = 12, month_end = 12,\n",
    "                        year_start = 2020, year_end = 2020,\n",
    "                        uf = \"PB\", information_system = \"CNES-LT\")\n",
    "#Somatório\n",
    "leitos %<>%\n",
    "  group_by(CNES) %>%\n",
    "  summarise(TOTAL = sum(QT_EXIST))\n",
    "\n",
    "#União das bases\n",
    "dados_dez_20 = left_join(dados_dez_20, leitos, by = \"CNES\")\n",
    "\n",
    "#Substituir NA por zero\n",
    "dados_dez_20 %<>%\n",
    "  mutate_at(vars(TOTAL), ~replace_na(., 0))"
   ]
  },
  {
   "cell_type": "markdown",
   "metadata": {},
   "source": [
    "#### 2.3 Março e Dezembro de 2020"
   ]
  },
  {
   "cell_type": "code",
   "execution_count": 59,
   "metadata": {},
   "outputs": [],
   "source": [
    "#Preparando a base - março\n",
    "d0 =  dados_mar_20 %>%\n",
    "  select(CNES, CNS_PROF) %>%\n",
    "  group_by(CNS_PROF, CNES) %>%\n",
    "  mutate(t0 = 1,\n",
    "         id = row_number()) %>%\n",
    "  ungroup()\n",
    "\n",
    "#Preparando a base - dezembro\n",
    "d1 =  dados_dez_20 %>%\n",
    "  select(CNES, CNS_PROF) %>%\n",
    "  group_by(CNS_PROF, CNES) %>%\n",
    "  mutate(t1 = 1,\n",
    "         id = row_number()) %>%\n",
    "  ungroup()\n",
    "\n",
    "#Unindo as informaçoes dos dois meses:\n",
    "d = full_join(d0, d1, by = c(\"CNES\", \"CNS_PROF\", \"id\"))\n",
    "\n",
    "#Onde nao tem informaçao, substituir por 0\n",
    "d[is.na(d)] = 0\n",
    "\n",
    "#Se trabalhou nos dois periodos continuou no emprego, menor do que 2 trocou:\n",
    "d = d %>% \n",
    "  mutate(t = t0 + t1,\n",
    "         rotat = if_else(t < 2, 1,0))\n",
    "\n",
    "#Voltando para a base original:\n",
    "df0 = left_join(dados_mar_20, d, by = c(\"CNES\", \"CNS_PROF\", \"id\")) %>%\n",
    "  mutate(tempo = 0)\n",
    "\n",
    "df1 = left_join(dados_dez_20, d, by = c(\"CNES\", \"CNS_PROF\", \"id\")) %>%\n",
    "  mutate(tempo = 1)\n",
    "\n",
    "#Uniao dos dois meses:\n",
    "uniao_20 = bind_rows(df0, df1)"
   ]
  },
  {
   "cell_type": "markdown",
   "metadata": {},
   "source": [
    "#### Criando atributos relativos aos hospitais e profissionais"
   ]
  },
  {
   "cell_type": "code",
   "execution_count": 60,
   "metadata": {},
   "outputs": [],
   "source": [
    "#Quantidade de vínculos entre março e dezembro.\n",
    "uniao_20 %<>%\n",
    "  group_by(CNS_PROF, tempo) %>%\n",
    "  mutate(VINCULOS = n())\n",
    "\n",
    "#Descobrindo os hospitais públicos e privados pela natureza juridica\n",
    "uniao_20 %<>%\n",
    "  mutate(NAT_JUR = as.character(NAT_JUR),\n",
    "         PUBLICO = if_else(NAT_JUR == \"2011\" |\n",
    "                          NAT_JUR == \"Autarquia Federal\" |\n",
    "                          NAT_JUR == \"Autarquia Municipal\" |\n",
    "                          NAT_JUR == \"Município\" |\n",
    "                          NAT_JUR == \"Órgão Público do Poder Executivo Estadual ou do Distrito Federal\", 1, 0))\n",
    "\n",
    "#Transformando subgrupo de profissões em uma geral\n",
    "uniao_20  %<>%\n",
    "  mutate(PROFISSAO = case_when(str_detect(PROFISSAO,\"Auxiliar de enfermagem\") ~ \"Técnico de enfermagem\",\n",
    "                               str_starts(PROFISSAO, \"Médico\") ~ \"Médico\",\n",
    "                               str_starts(PROFISSAO, \"Fisioterapeuta\") ~ \"Fisioterapeuta\",\n",
    "                               str_starts(PROFISSAO, \"Farmacêutico\") ~ \"Farmacêutico\",\n",
    "                               str_starts(PROFISSAO, \"Enfermeiro\") ~ \"Enfermeiro\",\n",
    "                               TRUE ~ as.character(PROFISSAO)))\n",
    "\n",
    "#Número de horas trabalhadas\n",
    "uniao_20 %<>%\n",
    "  mutate(HORAOUTR = as.numeric(HORAOUTR),\n",
    "         HORAHOSP = as.numeric(HORAHOSP),\n",
    "         HORA_AMB = as.numeric(HORA_AMB),\n",
    "         H_TOTAL = HORAOUTR + HORAHOSP + HORA_AMB)\n",
    "\n",
    "#Criando dummies para total de horas trabalhadas:\n",
    "uniao_20 %<>% mutate(D_HORAS = case_when(H_TOTAL %in% 0:10 ~ 1,\n",
    "                                         H_TOTAL %in% 11:20 ~ 2,\n",
    "                                         H_TOTAL %in% 21:30 ~ 3,\n",
    "                                         H_TOTAL > 30 ~ 4))\n",
    "\n",
    "#Dummies para indicar o porte do hospital\n",
    "uniao_20 %<>% mutate(PORTE = case_when(TOTAL <= 50 ~ 1,\n",
    "                                        TOTAL %in% 51:150 ~ 2,\n",
    "                                        TOTAL %in% 151:500 ~ 3,\n",
    "                                        TOTAL > 500 ~ 4))\n",
    "\n",
    "#Dummies para indicar a quantidade de vínculos trabalhistas\n",
    "uniao_20  %<>% mutate(D_VINC = case_when(VINCULOS == 1 ~ \"1 vínculo\",\n",
    "                                         VINCULOS == 2 ~ \"2 vínculos\",\n",
    "                                         VINCULOS >= 3 ~ \"3 ou mais vínculos\"))"
   ]
  },
  {
   "cell_type": "code",
   "execution_count": 61,
   "metadata": {},
   "outputs": [],
   "source": [
    "#Unindo a base uniao_19 com codigo para termos as mesorregiões\n",
    "uniao_20 = inner_join(uniao_20, codigo, by = \"CODUFMUN\")"
   ]
  },
  {
   "cell_type": "code",
   "execution_count": 62,
   "metadata": {},
   "outputs": [],
   "source": [
    "#Desagrupando os dados\n",
    "uniao_20 %<>%\n",
    "    ungroup()"
   ]
  },
  {
   "cell_type": "markdown",
   "metadata": {},
   "source": [
    "#### Descrição da base criada"
   ]
  },
  {
   "cell_type": "code",
   "execution_count": 63,
   "metadata": {},
   "outputs": [
    {
     "name": "stdout",
     "output_type": "stream",
     "text": [
      "Rows: 43.979\n",
      "Columns: 24\n",
      "$ CNES      \u001b[3m\u001b[90m<chr>\u001b[39m\u001b[23m \"2322153\", \"2322153\", \"2322153\", \"2322153\", \"2322153\", \"2322~\n",
      "$ CNS_PROF  \u001b[3m\u001b[90m<chr>\u001b[39m\u001b[23m \"207428997690007\", \"980016288637438\", \"980016297404556\", \"98~\n",
      "$ CODUFMUN  \u001b[3m\u001b[90m<chr>\u001b[39m\u001b[23m \"250020\", \"250020\", \"250020\", \"250020\", \"250020\", \"250020\", ~\n",
      "$ TP_UNID   \u001b[3m\u001b[90m<chr>\u001b[39m\u001b[23m \"Hospital geral\", \"Hospital geral\", \"Hospital geral\", \"Hospi~\n",
      "$ CBO       \u001b[3m\u001b[90m<chr>\u001b[39m\u001b[23m \"225124\", \"225125\", \"225125\", \"223505\", \"322205\", \"223605\", ~\n",
      "$ HORAOUTR  \u001b[3m\u001b[90m<dbl>\u001b[39m\u001b[23m 0, 0, 0, 0, 0, 0, 0, 0, 0, 0, 0, 0, 0, 0, 0, 0, 0, 0, 0, 0, ~\n",
      "$ HORAHOSP  \u001b[3m\u001b[90m<dbl>\u001b[39m\u001b[23m 0, 0, 12, 0, 0, 0, 12, 40, 0, 40, 0, 0, 12, 0, 0, 0, 0, 0, 0~\n",
      "$ HORA_AMB  \u001b[3m\u001b[90m<dbl>\u001b[39m\u001b[23m 8, 18, 12, 24, 40, 20, 12, 0, 20, 0, 24, 24, 12, 40, 12, 20,~\n",
      "$ NAT_JUR   \u001b[3m\u001b[90m<chr>\u001b[39m\u001b[23m \"Órgão Público do Poder Executivo Estadual ou do Distrito Fe~\n",
      "$ PROFISSAO \u001b[3m\u001b[90m<chr>\u001b[39m\u001b[23m \"Médico\", \"Médico\", \"Médico\", \"Enfermeiro\", \"Técnico de enfe~\n",
      "$ id        \u001b[3m\u001b[90m<int>\u001b[39m\u001b[23m 1, 1, 1, 1, 1, 1, 1, 1, 1, 1, 1, 1, 1, 1, 1, 1, 1, 1, 1, 1, ~\n",
      "$ TOTAL     \u001b[3m\u001b[90m<int>\u001b[39m\u001b[23m 12, 12, 12, 12, 12, 12, 12, 12, 12, 12, 12, 12, 12, 12, 12, ~\n",
      "$ t0        \u001b[3m\u001b[90m<dbl>\u001b[39m\u001b[23m 1, 1, 1, 1, 1, 1, 1, 1, 1, 1, 1, 1, 1, 1, 1, 1, 1, 1, 1, 1, ~\n",
      "$ t1        \u001b[3m\u001b[90m<dbl>\u001b[39m\u001b[23m 1, 0, 1, 1, 1, 1, 0, 1, 0, 0, 1, 1, 1, 1, 1, 1, 1, 1, 1, 0, ~\n",
      "$ t         \u001b[3m\u001b[90m<dbl>\u001b[39m\u001b[23m 2, 1, 2, 2, 2, 2, 1, 2, 1, 1, 2, 2, 2, 2, 2, 2, 2, 2, 2, 1, ~\n",
      "$ rotat     \u001b[3m\u001b[90m<dbl>\u001b[39m\u001b[23m 0, 1, 0, 0, 0, 0, 1, 0, 1, 1, 0, 0, 0, 0, 0, 0, 0, 0, 0, 1, ~\n",
      "$ tempo     \u001b[3m\u001b[90m<dbl>\u001b[39m\u001b[23m 0, 0, 0, 0, 0, 0, 0, 0, 0, 0, 0, 0, 0, 0, 0, 0, 0, 0, 0, 0, ~\n",
      "$ VINCULOS  \u001b[3m\u001b[90m<int>\u001b[39m\u001b[23m 2, 2, 1, 2, 1, 1, 1, 1, 1, 1, 1, 1, 2, 1, 1, 1, 1, 1, 2, 1, ~\n",
      "$ PUBLICO   \u001b[3m\u001b[90m<dbl>\u001b[39m\u001b[23m 1, 1, 1, 1, 1, 1, 1, 1, 1, 1, 1, 1, 1, 1, 1, 1, 1, 1, 1, 1, ~\n",
      "$ H_TOTAL   \u001b[3m\u001b[90m<dbl>\u001b[39m\u001b[23m 8, 18, 24, 24, 40, 20, 24, 40, 20, 40, 24, 24, 24, 40, 12, 2~\n",
      "$ D_HORAS   \u001b[3m\u001b[90m<dbl>\u001b[39m\u001b[23m 1, 2, 3, 3, 4, 2, 3, 4, 2, 4, 3, 3, 3, 4, 2, 2, 2, 1, 1, 2, ~\n",
      "$ PORTE     \u001b[3m\u001b[90m<dbl>\u001b[39m\u001b[23m 1, 1, 1, 1, 1, 1, 1, 1, 1, 1, 1, 1, 1, 1, 1, 1, 1, 1, 1, 1, ~\n",
      "$ D_VINC    \u001b[3m\u001b[90m<chr>\u001b[39m\u001b[23m \"2 vínculos\", \"2 vínculos\", \"1 vínculo\", \"2 vínculos\", \"1 ví~\n",
      "$ meso_trab \u001b[3m\u001b[90m<chr>\u001b[39m\u001b[23m \"Sertão Paraibano\", \"Sertão Paraibano\", \"Sertão Paraibano\", ~\n"
     ]
    }
   ],
   "source": [
    "glimpse(uniao_20)"
   ]
  },
  {
   "cell_type": "markdown",
   "metadata": {},
   "source": [
    "#### Exportando os arquivos "
   ]
  },
  {
   "cell_type": "code",
   "execution_count": 64,
   "metadata": {},
   "outputs": [],
   "source": [
    "#Arquivo de 2019\n",
    "write.csv(uniao_19, \"uniao_19.csv\", row.names = FALSE)\n",
    "\n",
    "#Arquivo de 2020\n",
    "write.csv(uniao_20, \"uniao_20.csv\", row.names = FALSE)\n"
   ]
  }
 ],
 "metadata": {
  "kernelspec": {
   "display_name": "R",
   "language": "R",
   "name": "ir"
  },
  "language_info": {
   "codemirror_mode": "r",
   "file_extension": ".r",
   "mimetype": "text/x-r-source",
   "name": "R",
   "pygments_lexer": "r",
   "version": "4.1.0"
  },
  "orig_nbformat": 4
 },
 "nbformat": 4,
 "nbformat_minor": 2
}
