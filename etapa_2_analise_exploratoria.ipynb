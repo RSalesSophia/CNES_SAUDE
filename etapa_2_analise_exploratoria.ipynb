{
 "cells": [
  {
   "cell_type": "markdown",
   "metadata": {},
   "source": [
    "#### Bibliotecas"
   ]
  },
  {
   "cell_type": "code",
   "execution_count": 15,
   "metadata": {},
   "outputs": [],
   "source": [
    "library(dplyr)\n",
    "library(magrittr)\n",
    "library(ggplot2)\n",
    "library(extrafont)"
   ]
  },
  {
   "cell_type": "markdown",
   "metadata": {},
   "source": [
    "#### Configurações de tela"
   ]
  },
  {
   "cell_type": "code",
   "execution_count": 16,
   "metadata": {},
   "outputs": [],
   "source": [
    "options(digits = 4, scipen = 100)\n",
    "windowsFonts(Times = windowsFont(\"TT Times New Roman\"))\n",
    "options(repr.plot.width = 9, repr.plot.height = 5)"
   ]
  },
  {
   "cell_type": "markdown",
   "metadata": {},
   "source": [
    "#### Importando os dados"
   ]
  },
  {
   "cell_type": "code",
   "execution_count": 17,
   "metadata": {},
   "outputs": [],
   "source": [
    "#Dados de 2019\n",
    "uniao_19 = read.csv(\"uniao_19.csv\")\n",
    "\n",
    "#Dados de 2020\n",
    "uniao_20 = read.csv(\"uniao_20.csv\")"
   ]
  },
  {
   "cell_type": "markdown",
   "metadata": {},
   "source": [
    "#### Analisando os índices de rotatividade em hospitais públicos e privados no Estado da Paraí­ba"
   ]
  },
  {
   "cell_type": "markdown",
   "metadata": {},
   "source": [
    "#### 1.1 Índices de rotatividade por hospital"
   ]
  },
  {
   "cell_type": "code",
   "execution_count": 18,
   "metadata": {},
   "outputs": [],
   "source": [
    "d0 = uniao_19 %>% \n",
    "  group_by(PUBLICO) %>%\n",
    "  summarise(sumdez = sum(tempo == \"1\"),\n",
    "            sumrotat = sum(rotat == \"1\"),\n",
    "            mediarot = sumrotat/2,\n",
    "            ind_r = (mediarot/sumdez)*100) %>%\n",
    "  mutate(ano = as.factor(2019)) %>%\n",
    "  arrange(-sumdez)\n",
    "  \n",
    "#Para 2020\n",
    "d1 = uniao_20 %>% \n",
    "  group_by(PUBLICO) %>%\n",
    "  summarise(sumdez = sum(tempo == \"1\"),\n",
    "            sumrotat = sum(rotat == \"1\"),\n",
    "            mediarot = sumrotat/2,\n",
    "            ind_r = (mediarot/sumdez)*100) %>%\n",
    "  mutate(ano = as.factor(2020)) %>%\n",
    "  arrange(-sumdez)\n",
    "\n",
    "uniao = rbind(d0, d1) %>%\n",
    "  mutate(ind_r = round(ind_r, 2),\n",
    "         porc = paste0(ind_r, \"%\"))\n",
    "\n",
    "uniao$porc = gsub(\"\\\\.\", \",\", uniao$porc)\n",
    "\n",
    "\n",
    "uniao %<>% mutate(PUBLICO = factor(PUBLICO, levels= c(0, 1),\n",
    "                  labels = c(\"Privado\", \"Público\")))\n"
   ]
  },
  {
   "cell_type": "markdown",
   "metadata": {},
   "source": [
    "#### 1.2  Análise gráfica dos índices de rotatividade por hospital"
   ]
  },
  {
   "cell_type": "code",
   "execution_count": 19,
   "metadata": {},
   "outputs": [
    {
     "data": {
      "image/png": "[encoded data removed]",
      "text/plain": [
       "plot without title"
      ]
     },
     "metadata": {
      "image/png": {
       "height": 300,
       "width": 540
      }
     },
     "output_type": "display_data"
    }
   ],
   "source": [
    "ggplot(uniao, aes(x=as.factor(PUBLICO), y=ind_r, fill=ano)) +\n",
    "  geom_bar(stat=\"identity\", position=position_dodge(), width=0.4)+\n",
    "  geom_text(aes(label = porc), position = position_dodge(0.4),\n",
    "            vjust = -0.3, hjust = 0.5, size = 3.8, color = \"black\") +\n",
    "  theme_minimal(base_family = \"Times New Roman\", base_size = 14) +\n",
    "  theme(legend.position = \"bottom\",\n",
    "        legend.background = element_rect(fill=\"ghostwhite\", size=0.7, \n",
    "                                         linetype=\"blank\"),\n",
    "        plot.title = element_text(hjust = 0.5)) +\n",
    "  scale_fill_manual(values = c(\"#7AACBF\", \"#010D26\")) +\n",
    "  labs(x = \"\", y = \"Índice de Rotatividade (%)\",\n",
    "      title = \"Índice de rotatividade por tipo de hospital\",\n",
    "      fill = \"\")"
   ]
  },
  {
   "cell_type": "markdown",
   "metadata": {},
   "source": [
    "#### 2.1 Índices de rotatividade para as mesorregiões de acordo"
   ]
  },
  {
   "cell_type": "code",
   "execution_count": null,
   "metadata": {},
   "outputs": [],
   "source": [
    "#Para 2019\n",
    "d0 = uniao_19 %>% \n",
    "  group_by(PUBLICO, meso_trab) %>%\n",
    "  summarise(sumdez = sum(tempo == \"1\"),\n",
    "            sumrotat = sum(rotat == \"1\"),\n",
    "            mediarot = sumrotat/2,\n",
    "            ind_r = (mediarot/sumdez)*100) %>%\n",
    "  mutate(ano = as.factor(2019)) %>%\n",
    "  arrange(-sumdez)\n",
    "  \n",
    "#Para 2020\n",
    "d1 = uniao_20 %>% \n",
    "  group_by(PUBLICO, meso_trab) %>%\n",
    "  summarise(sumdez = sum(tempo == \"1\"),\n",
    "            sumrotat = sum(rotat == \"1\"),\n",
    "            mediarot = sumrotat/2,\n",
    "            ind_r = (mediarot/sumdez)*100) %>%\n",
    "  mutate(ano = as.factor(2020)) %>%\n",
    "  arrange(-sumdez)\n",
    "\n",
    "uniao = rbind(d0, d1) %>%\n",
    "  mutate(ind_r = round(ind_r, 2),\n",
    "         porc = paste0(ind_r, \"%\"))\n",
    "\n",
    "uniao$porc = gsub(\"\\\\.\", \",\", uniao$porc)\n",
    "\n",
    "\n",
    "uniao %<>% mutate(PUBLICO = factor(PUBLICO, levels= c(0, 1),\n",
    "                  labels = c(\"Privado\", \"Público\")))"
   ]
  },
  {
   "cell_type": "markdown",
   "metadata": {},
   "source": [
    "#### 2.2 Análise gráfica dos índices de rotatividade por hospital e mesorregião"
   ]
  },
  {
   "cell_type": "code",
   "execution_count": 21,
   "metadata": {},
   "outputs": [
    {
     "data": {
      "image/png": "[encoded data removed]",
      "text/plain": [
       "plot without title"
      ]
     },
     "metadata": {
      "image/png": {
       "height": 300,
       "width": 540
      }
     },
     "output_type": "display_data"
    }
   ],
   "source": [
    "ggplot(uniao, aes(x=as.factor(meso_trab), y=ind_r, fill=ano)) +\n",
    "  geom_bar(position = \"dodge\", stat = \"identity\", width=0.9) +\n",
    "  facet_wrap(~as.factor(PUBLICO)) +\n",
    "  geom_text(aes(label = porc), size = 2.8, color = \"black\",\n",
    "            vjust = -0.2, position = position_dodge(0.8)) +\n",
    "  theme_minimal(base_family = \"Times New Roman\", base_size = 12) +\n",
    "  theme(axis.text.x = element_text(hjust =0.5),\n",
    "        legend.position = \"bottom\",\n",
    "        legend.background = element_rect(fill=\"ghostwhite\",\n",
    "        size=0.7,  linetype=\"blank\"),\n",
    "        strip.text = element_text(size = 13, face = \"bold\"),\n",
    "        plot.title = element_text(hjust = 0.5)) +\n",
    "        scale_fill_manual(values = c(\"#7AACBF\", \"#010D26\")) +\n",
    " labs(x = \"\", y = \"Índice de Rotatividade (%)\",\n",
    "     fill = \"\",\n",
    "     title = \"Índice de rotatividade por tipo de hospital e mesorregião\")\n"
   ]
  },
  {
   "cell_type": "markdown",
   "metadata": {},
   "source": [
    "#### 3.1 Índice de rotatividade por carga horária e tipo de hospital"
   ]
  },
  {
   "cell_type": "code",
   "execution_count": null,
   "metadata": {},
   "outputs": [],
   "source": [
    "d0 = uniao_19 %>% \n",
    "  group_by(D_HORAS, PUBLICO) %>%\n",
    "  summarise(sumdez = sum(tempo == \"1\"),\n",
    "            sumrotat = sum(rotat == \"1\"),\n",
    "            mediarot = sumrotat/2,\n",
    "            ind_r = (mediarot/sumdez)*100) %>%\n",
    "  mutate(ano = as.factor(2019)) \n",
    "\n",
    "#Para 2020\n",
    "d1 = uniao_20 %>% \n",
    "  group_by(D_HORAS, PUBLICO) %>%\n",
    "  summarise(sumdez = sum(tempo == \"1\"),\n",
    "            sumrotat = sum(rotat == \"1\"),\n",
    "            mediarot = sumrotat/2,\n",
    "            ind_r = (mediarot/sumdez)*100) %>%\n",
    "  mutate(ano = as.factor(2020)) \n",
    "\n",
    "uniao = rbind(d0, d1) %>%\n",
    "  mutate(ind_r = round(ind_r, 2),\n",
    "         porc = paste0(ind_r, \"%\"))\n",
    "\n",
    "uniao$porc = gsub(\"\\\\.\", \",\", uniao$porc)\n",
    "\n",
    "uniao %<>% mutate(PUBLICO = factor(PUBLICO, levels= c(0, 1),\n",
    "                                   labels = c(\"Privado\", \"Público\")))\n",
    "\n",
    "uniao %<>% mutate(D_HORAS = factor(D_HORAS, levels= c(1, 2,3,4),\n",
    "                                   labels = c(\"Até 10 horas\", \"11h a 20 horas\",\n",
    "                                              \"21h a 30 horas\",\n",
    "                                              \"31 horas ou mais\")))"
   ]
  },
  {
   "cell_type": "markdown",
   "metadata": {},
   "source": [
    "#### 2.2 Análise gráfica dos índices de rotatividades por carga horária e tipo de hospital"
   ]
  },
  {
   "cell_type": "code",
   "execution_count": 23,
   "metadata": {},
   "outputs": [
    {
     "data": {
      "image/png": "[encoded data removed]",
      "text/plain": [
       "plot without title"
      ]
     },
     "metadata": {
      "image/png": {
       "height": 300,
       "width": 540
      }
     },
     "output_type": "display_data"
    }
   ],
   "source": [
    "ggplot(uniao, aes(x=as.factor(D_HORAS), y=ind_r, fill=ano)) +\n",
    "  geom_bar(position = \"dodge\", stat = \"identity\", width=0.9) +\n",
    "  facet_wrap(~as.factor(PUBLICO) ) +\n",
    "  geom_text(aes(label = porc), size = 2.8, color = \"black\",\n",
    "            vjust = -0.2, position = position_dodge(0.8)) +\n",
    "  theme_minimal(base_family = \"Times New Roman\", base_size = 12) + \n",
    "  theme(axis.text.x = element_text(hjust =0.5),\n",
    "        legend.position = \"bottom\",\n",
    "        legend.background = element_rect(fill= \"ghostwhite\",\n",
    "                                         size=0.7,  linetype=\"blank\"),\n",
    "        plot.title = element_text(hjust = 0.5),\n",
    "        strip.text = element_text(size = 13, face = \"bold\")) +\n",
    "  scale_fill_manual(values = c(\"#7AACBF\", \"#010D26\")) +\n",
    "  labs(x = \"\", y = \"Índice de Rotatividade (%)\",\n",
    "       fill = \"\",\n",
    "       title = \"Índice de rotatividade por carga horária e tipo de hospital\")"
   ]
  },
  {
   "cell_type": "markdown",
   "metadata": {},
   "source": [
    "#### 3.1 Índice de rotatividade por profissão e tipo de hospital:"
   ]
  },
  {
   "cell_type": "code",
   "execution_count": null,
   "metadata": {},
   "outputs": [],
   "source": [
    "#Para 2019\n",
    "d0 = uniao_19 %>% \n",
    "  group_by(PROFISSAO, PUBLICO) %>%\n",
    "  summarise(sumdez = sum(tempo == \"1\"),\n",
    "            sumrotat = sum(rotat == \"1\"),\n",
    "            mediarot = sumrotat/2,\n",
    "            ind_r = (mediarot/sumdez)*100) %>%\n",
    "  mutate(ano = as.factor(2019)) %>%\n",
    "  filter(PROFISSAO == \"Técnico de enfermagem\" | PROFISSAO == \"Médico\" | PROFISSAO == \"Enfermeiro\" | PROFISSAO == \"Fisioterapeuta\"| PROFISSAO == \"Farmacêutico\")\n",
    "\n",
    "#Para 2020\n",
    "d1 = uniao_20 %>% \n",
    "  group_by(PUBLICO, PROFISSAO) %>%\n",
    "  summarise(sumdez = sum(tempo == \"1\"),\n",
    "            sumrotat = sum(rotat == \"1\"),\n",
    "            mediarot = sumrotat/2,\n",
    "            ind_r = (mediarot/sumdez)*100) %>%\n",
    "  mutate(ano = as.factor(2020)) %>%\n",
    "  filter(PROFISSAO == \"Técnico de enfermagem\" | PROFISSAO == \"Médico\" | PROFISSAO == \"Enfermeiro\" | PROFISSAO == \"Fisioterapeuta\"| PROFISSAO == \"Farmacêutico\")\n",
    "\n",
    "\n",
    "uniao = rbind(d0, d1) %>%\n",
    "  mutate(ind_r = round(ind_r, 2),\n",
    "         porc = paste0(ind_r, \"%\"))\n",
    "\n",
    "uniao$porc = gsub(\"\\\\.\", \",\", uniao$porc)\n",
    "\n",
    "uniao %<>% mutate(PUBLICO = factor(PUBLICO, levels= c(0, 1),\n",
    "                                   labels = c(\"Privado\", \"Público\")))"
   ]
  },
  {
   "cell_type": "markdown",
   "metadata": {},
   "source": [
    "#### 3.2 Análise gráfica dos índices de rotatividades por profissão e tipo de hospital"
   ]
  },
  {
   "cell_type": "code",
   "execution_count": 25,
   "metadata": {},
   "outputs": [
    {
     "data": {
      "image/png": "[encoded data removed]",
      "text/plain": [
       "plot without title"
      ]
     },
     "metadata": {
      "image/png": {
       "height": 300,
       "width": 540
      }
     },
     "output_type": "display_data"
    }
   ],
   "source": [
    "ggplot(uniao, aes(x=as.factor(PROFISSAO), y=ind_r, fill=ano)) +\n",
    "  geom_bar(position = \"dodge\", stat = \"identity\", width=0.9) +\n",
    "  facet_wrap(~as.factor(PUBLICO) ) +\n",
    "  geom_text(aes(label = porc), size = 2.8, color = \"black\",\n",
    "            vjust = -0.2, position = position_dodge(0.8)) +\n",
    "  theme_minimal(base_family = \"Times New Roman\", base_size = 12) + \n",
    "  theme(axis.text.x = element_text(hjust =0.5),\n",
    "        legend.position = \"bottom\",\n",
    "        legend.background = element_rect(fill=\"ghostwhite\", size=0.7,  \n",
    "                                        linetype=\"blank\"),\n",
    "        strip.text = element_text(size = 13, face = \"bold\"),\n",
    "        plot.title = element_text(hjust = 0.5)) +\n",
    "  scale_fill_manual(values = c(\"#7AACBF\", \"#010D26\")) +\n",
    "  labs(x = \"\", y = \"Índice de Rotatividade (%)\",\n",
    "       fill = \"\",\n",
    "       title = \"Índice de rotatividade por profissionais e tipo de hospital\")"
   ]
  },
  {
   "cell_type": "markdown",
   "metadata": {},
   "source": [
    "#### 4.1 Índice de rotatividade por porte e tipo de hospital:"
   ]
  },
  {
   "cell_type": "code",
   "execution_count": null,
   "metadata": {},
   "outputs": [],
   "source": [
    "#Para 2019\n",
    "d0 = uniao_19 %>% \n",
    "  group_by(PORTE, PUBLICO) %>%\n",
    "  summarise(sumdez = sum(tempo == \"1\"),\n",
    "            sumrotat = sum(rotat == \"1\"),\n",
    "            mediarot = sumrotat/2,\n",
    "            ind_r = (mediarot/sumdez)*100) %>%\n",
    "  mutate(ano = as.factor(2019)) \n",
    "\n",
    "#Para 2020\n",
    "d1 = uniao_20 %>% \n",
    "  group_by(PORTE, PUBLICO) %>%\n",
    "  summarise(sumdez = sum(tempo == \"1\"),\n",
    "            sumrotat = sum(rotat == \"1\"),\n",
    "            mediarot = sumrotat/2,\n",
    "            ind_r = (mediarot/sumdez)*100) %>%\n",
    "  mutate(ano = as.factor(2020)) \n",
    "\n",
    "uniao = rbind(d0, d1) %>%\n",
    "  mutate(ind_r = round(ind_r, 2),\n",
    "         porc = paste0(ind_r, \"%\"))\n",
    "\n",
    "uniao$porc = gsub(\"\\\\.\", \",\", uniao$porc)\n",
    "\n",
    "uniao %<>% mutate(PUBLICO = factor(PUBLICO, levels= c(0, 1),\n",
    "                                   labels = c(\"Privado\", \"Público\")))\n",
    "\n",
    "uniao %<>% mutate(PORTE = factor(PORTE, levels= c(1, 2,3),\n",
    "                                 labels = c(\"Pequeno\", \"Médio\",\n",
    "                                            \"Grande\")))"
   ]
  },
  {
   "cell_type": "markdown",
   "metadata": {},
   "source": [
    "#### 4.2 Análise gráfica dos índices de rotatividades por porte e tipo de hospital"
   ]
  },
  {
   "cell_type": "code",
   "execution_count": 27,
   "metadata": {},
   "outputs": [
    {
     "data": {
      "image/png": "[encoded data removed]",
      "text/plain": [
       "plot without title"
      ]
     },
     "metadata": {
      "image/png": {
       "height": 300,
       "width": 540
      }
     },
     "output_type": "display_data"
    }
   ],
   "source": [
    "ggplot(uniao, aes(x=as.factor(PORTE), y=ind_r, fill=ano)) +\n",
    "  geom_bar(position = \"dodge\", stat = \"identity\", width=0.9) +\n",
    "  facet_wrap(~as.factor(PUBLICO) ) +\n",
    "  geom_text(aes(label = porc), size = 2.8, color = \"black\",\n",
    "            vjust = -0.2, position = position_dodge(0.8)) +\n",
    "  theme_minimal(base_family = \"Times New Roman\", base_size = 12) + \n",
    "  theme(axis.text.x = element_text(hjust =0.5),\n",
    "        legend.position = \"bottom\",\n",
    "        legend.background = element_rect(fill=\"ghostwhite\", \n",
    "                                        size=0.7,  linetype=\"blank\"),\n",
    "        strip.text = element_text(size = 13, face = \"bold\"), \n",
    "        plot.title = element_text(hjust = 0.5)) +\n",
    "  scale_fill_manual(values = c(\"#7AACBF\", \"#010D26\")) +\n",
    "  labs(x = \"\", y = \"Índice de Rotatividade (%)\",\n",
    "       fill = \"\", \n",
    "       title = \"Índice de rotatividade por tipo categoria e porte do hospital\")"
   ]
  },
  {
   "cell_type": "markdown",
   "metadata": {},
   "source": [
    "#### 5.1 Índice de rotatividade por vínculos trabalhistas e tipo de hospital:"
   ]
  },
  {
   "cell_type": "code",
   "execution_count": null,
   "metadata": {},
   "outputs": [],
   "source": [
    "d0 = uniao_19 %>% \n",
    "  group_by(D_VINC, PUBLICO) %>%\n",
    "  summarise(sumdez = sum(tempo == \"1\"),\n",
    "            sumrotat = sum(rotat == \"1\"),\n",
    "            mediarot = sumrotat/2,\n",
    "            ind_r = (mediarot/sumdez)*100) %>%\n",
    "  mutate(ano = as.factor(2019)) \n",
    "\n",
    "d1 = uniao_20 %>% \n",
    "  group_by(D_VINC, PUBLICO) %>%\n",
    "  summarise(sumdez = sum(tempo == \"1\"),\n",
    "            sumrotat = sum(rotat == \"1\"),\n",
    "            mediarot = sumrotat/2,\n",
    "            ind_r = (mediarot/sumdez)*100) %>%\n",
    "  mutate(ano = as.factor(2020)) \n",
    "\n",
    "uniao = rbind(d0, d1) %>%\n",
    "  mutate(ind_r = round(ind_r, 2),\n",
    "         porc = paste0(ind_r, \"%\"))\n",
    "\n",
    "uniao$porc = gsub(\"\\\\.\", \",\", uniao$porc)\n",
    "\n",
    "uniao %<>% mutate(PUBLICO = factor(PUBLICO, levels= c(0, 1),\n",
    "                                   labels = c(\"Privado\", \"Público\")))"
   ]
  },
  {
   "cell_type": "markdown",
   "metadata": {},
   "source": [
    "#### 5.2 Análise gráfica dos índices de rotatividades por vínculos e tipo de hospital"
   ]
  },
  {
   "cell_type": "code",
   "execution_count": 29,
   "metadata": {},
   "outputs": [
    {
     "data": {
      "image/png": "[encoded data removed]",
      "text/plain": [
       "plot without title"
      ]
     },
     "metadata": {
      "image/png": {
       "height": 300,
       "width": 540
      }
     },
     "output_type": "display_data"
    }
   ],
   "source": [
    "ggplot(uniao, aes(x=as.factor(D_VINC), y=ind_r, fill=ano)) +\n",
    "  geom_bar(position = \"dodge\", stat = \"identity\", width=0.9) +\n",
    "  facet_wrap(~as.factor(PUBLICO) ) +\n",
    "  geom_text(aes(label = porc), size = 2.8, color = \"black\",\n",
    "            vjust = -0.2, position = position_dodge(0.8)) +\n",
    "  theme_minimal(base_family = \"Times New Roman\", base_size = 12) + \n",
    "  theme(axis.text.x = element_text(hjust =0.5),\n",
    "        legend.position = \"bottom\",\n",
    "        legend.background = element_rect(fill=\"ghostwhite\", size=0.7,  linetype=\"blank\"),\n",
    "        plot.title = element_text(hjust = 0.5),\n",
    "        strip.text = element_text(size = 13, face = \"bold\")) +\n",
    "  scale_fill_manual(values = c(\"#7AACBF\", \"#010D26\")) +\n",
    "  labs(x = \"\", y = \"Índice de Rotatividade (%)\",\n",
    "       fill = \"\", \n",
    "       title = \"Índice de rotatividade por vínculos trabalhistas e tipo de hospital\")"
   ]
  }
 ],
 "metadata": {
  "kernelspec": {
   "display_name": "R",
   "language": "R",
   "name": "ir"
  },
  "language_info": {
   "codemirror_mode": "r",
   "file_extension": ".r",
   "mimetype": "text/x-r-source",
   "name": "R",
   "pygments_lexer": "r",
   "version": "4.1.0"
  },
  "orig_nbformat": 4
 },
 "nbformat": 4,
 "nbformat_minor": 2
}
